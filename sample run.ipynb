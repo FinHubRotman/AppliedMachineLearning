{
 "cells": [
  {
   "cell_type": "markdown",
   "metadata": {},
   "source": [
    "##### In this section, we will be going through an example run of how the case study should look like. Note that many comments in this notebook are unnncessary for your work as it's there for educational purposes. We begin by import the standard packages."
   ]
  },
  {
   "cell_type": "code",
   "execution_count": 1,
   "metadata": {},
   "outputs": [],
   "source": [
    "import numpy as np #not used often here, but comes in handy when doing rough calculations to figure things out\n",
    "import pandas as  pd #the package that handles our data\n",
    "import matplotlib.pyplot as plt #remember to add in .pyplot else it won't work\n",
    "\n",
    "from sklearn.linear_model import LogisticRegression #the model used for this example"
   ]
  },
  {
   "cell_type": "markdown",
   "metadata": {},
   "source": [
    "##### Now, we import our training and testing data"
   ]
  },
  {
   "cell_type": "code",
   "execution_count": 2,
   "metadata": {},
   "outputs": [],
   "source": [
    "train_data = pd.read_csv('train_data.csv', index_col=0) #recall that index_col is the variable that we use to tell pandas which column contains the index,\n",
    "test_data = pd.read_csv('test_data.csv', index_col=0)"
   ]
  },
  {
   "cell_type": "code",
   "execution_count": 3,
   "metadata": {},
   "outputs": [
    {
     "data": {
      "text/html": [
       "<div>\n",
       "<style scoped>\n",
       "    .dataframe tbody tr th:only-of-type {\n",
       "        vertical-align: middle;\n",
       "    }\n",
       "\n",
       "    .dataframe tbody tr th {\n",
       "        vertical-align: top;\n",
       "    }\n",
       "\n",
       "    .dataframe thead th {\n",
       "        text-align: right;\n",
       "    }\n",
       "</style>\n",
       "<table border=\"1\" class=\"dataframe\">\n",
       "  <thead>\n",
       "    <tr style=\"text-align: right;\">\n",
       "      <th></th>\n",
       "      <th>DEBT</th>\n",
       "      <th>YRS_IN_RESIDENT</th>\n",
       "      <th>AGE</th>\n",
       "      <th>YRS_OF_EMPLOYMENT</th>\n",
       "      <th>DTI</th>\n",
       "      <th>NUM_PREV_APP</th>\n",
       "      <th>OCCUPATION</th>\n",
       "      <th>PROVIDED_SIN</th>\n",
       "      <th>MARRIAGE</th>\n",
       "      <th>INCOME</th>\n",
       "      <th>EDUCATION</th>\n",
       "      <th>CREDIT_PROFILE</th>\n",
       "      <th>APPROVAL_STATUS</th>\n",
       "    </tr>\n",
       "  </thead>\n",
       "  <tbody>\n",
       "    <tr>\n",
       "      <th>0</th>\n",
       "      <td>500.0</td>\n",
       "      <td>1.0</td>\n",
       "      <td>23.0</td>\n",
       "      <td>0.50</td>\n",
       "      <td>0.085</td>\n",
       "      <td>0</td>\n",
       "      <td>1</td>\n",
       "      <td>1</td>\n",
       "      <td>2</td>\n",
       "      <td>8</td>\n",
       "      <td>7</td>\n",
       "      <td>1</td>\n",
       "      <td>0</td>\n",
       "    </tr>\n",
       "    <tr>\n",
       "      <th>1</th>\n",
       "      <td>0.0</td>\n",
       "      <td>2.0</td>\n",
       "      <td>33.0</td>\n",
       "      <td>5.50</td>\n",
       "      <td>5.500</td>\n",
       "      <td>12</td>\n",
       "      <td>1001</td>\n",
       "      <td>1</td>\n",
       "      <td>2</td>\n",
       "      <td>11</td>\n",
       "      <td>7</td>\n",
       "      <td>1</td>\n",
       "      <td>1</td>\n",
       "    </tr>\n",
       "    <tr>\n",
       "      <th>2</th>\n",
       "      <td>0.0</td>\n",
       "      <td>9.0</td>\n",
       "      <td>19.0</td>\n",
       "      <td>4.50</td>\n",
       "      <td>3.000</td>\n",
       "      <td>0</td>\n",
       "      <td>1</td>\n",
       "      <td>0</td>\n",
       "      <td>1</td>\n",
       "      <td>8</td>\n",
       "      <td>7</td>\n",
       "      <td>1</td>\n",
       "      <td>1</td>\n",
       "    </tr>\n",
       "    <tr>\n",
       "      <th>3</th>\n",
       "      <td>100.0</td>\n",
       "      <td>1.0</td>\n",
       "      <td>49.0</td>\n",
       "      <td>0.25</td>\n",
       "      <td>0.250</td>\n",
       "      <td>11</td>\n",
       "      <td>2733</td>\n",
       "      <td>1</td>\n",
       "      <td>1</td>\n",
       "      <td>4</td>\n",
       "      <td>4</td>\n",
       "      <td>1</td>\n",
       "      <td>1</td>\n",
       "    </tr>\n",
       "    <tr>\n",
       "      <th>4</th>\n",
       "      <td>300.0</td>\n",
       "      <td>8.0</td>\n",
       "      <td>39.0</td>\n",
       "      <td>0.25</td>\n",
       "      <td>0.085</td>\n",
       "      <td>0</td>\n",
       "      <td>1</td>\n",
       "      <td>1</td>\n",
       "      <td>2</td>\n",
       "      <td>4</td>\n",
       "      <td>4</td>\n",
       "      <td>1</td>\n",
       "      <td>1</td>\n",
       "    </tr>\n",
       "  </tbody>\n",
       "</table>\n",
       "</div>"
      ],
      "text/plain": [
       "    DEBT  YRS_IN_RESIDENT   AGE  YRS_OF_EMPLOYMENT    DTI  NUM_PREV_APP  \\\n",
       "0  500.0              1.0  23.0               0.50  0.085             0   \n",
       "1    0.0              2.0  33.0               5.50  5.500            12   \n",
       "2    0.0              9.0  19.0               4.50  3.000             0   \n",
       "3  100.0              1.0  49.0               0.25  0.250            11   \n",
       "4  300.0              8.0  39.0               0.25  0.085             0   \n",
       "\n",
       "   OCCUPATION  PROVIDED_SIN  MARRIAGE  INCOME  EDUCATION  CREDIT_PROFILE  \\\n",
       "0           1             1         2       8          7               1   \n",
       "1        1001             1         2      11          7               1   \n",
       "2           1             0         1       8          7               1   \n",
       "3        2733             1         1       4          4               1   \n",
       "4           1             1         2       4          4               1   \n",
       "\n",
       "   APPROVAL_STATUS  \n",
       "0                0  \n",
       "1                1  \n",
       "2                1  \n",
       "3                1  \n",
       "4                1  "
      ]
     },
     "execution_count": 3,
     "metadata": {},
     "output_type": "execute_result"
    }
   ],
   "source": [
    "#get a preview of the data\n",
    "train_data.head()"
   ]
  },
  {
   "cell_type": "markdown",
   "metadata": {},
   "source": [
    "##### Let's do a simple visualization for seeing the relationship of INCOME and APPROVAL_STATUS. First, we create a pivot table by getting total approved credit cards for each income bracket in INCOME in train_data. "
   ]
  },
  {
   "cell_type": "code",
   "execution_count": 4,
   "metadata": {},
   "outputs": [
    {
     "data": {
      "text/html": [
       "<div>\n",
       "<style scoped>\n",
       "    .dataframe tbody tr th:only-of-type {\n",
       "        vertical-align: middle;\n",
       "    }\n",
       "\n",
       "    .dataframe tbody tr th {\n",
       "        vertical-align: top;\n",
       "    }\n",
       "\n",
       "    .dataframe thead th {\n",
       "        text-align: right;\n",
       "    }\n",
       "</style>\n",
       "<table border=\"1\" class=\"dataframe\">\n",
       "  <thead>\n",
       "    <tr style=\"text-align: right;\">\n",
       "      <th></th>\n",
       "      <th>APPROVAL_STATUS</th>\n",
       "    </tr>\n",
       "    <tr>\n",
       "      <th>INCOME</th>\n",
       "      <th></th>\n",
       "    </tr>\n",
       "  </thead>\n",
       "  <tbody>\n",
       "    <tr>\n",
       "      <th>1</th>\n",
       "      <td>5</td>\n",
       "    </tr>\n",
       "    <tr>\n",
       "      <th>2</th>\n",
       "      <td>6</td>\n",
       "    </tr>\n",
       "    <tr>\n",
       "      <th>3</th>\n",
       "      <td>10</td>\n",
       "    </tr>\n",
       "    <tr>\n",
       "      <th>4</th>\n",
       "      <td>12</td>\n",
       "    </tr>\n",
       "    <tr>\n",
       "      <th>5</th>\n",
       "      <td>2</td>\n",
       "    </tr>\n",
       "    <tr>\n",
       "      <th>6</th>\n",
       "      <td>15</td>\n",
       "    </tr>\n",
       "    <tr>\n",
       "      <th>7</th>\n",
       "      <td>13</td>\n",
       "    </tr>\n",
       "    <tr>\n",
       "      <th>8</th>\n",
       "      <td>53</td>\n",
       "    </tr>\n",
       "    <tr>\n",
       "      <th>9</th>\n",
       "      <td>29</td>\n",
       "    </tr>\n",
       "    <tr>\n",
       "      <th>10</th>\n",
       "      <td>12</td>\n",
       "    </tr>\n",
       "    <tr>\n",
       "      <th>11</th>\n",
       "      <td>42</td>\n",
       "    </tr>\n",
       "    <tr>\n",
       "      <th>12</th>\n",
       "      <td>2</td>\n",
       "    </tr>\n",
       "    <tr>\n",
       "      <th>13</th>\n",
       "      <td>23</td>\n",
       "    </tr>\n",
       "    <tr>\n",
       "      <th>14</th>\n",
       "      <td>24</td>\n",
       "    </tr>\n",
       "  </tbody>\n",
       "</table>\n",
       "</div>"
      ],
      "text/plain": [
       "        APPROVAL_STATUS\n",
       "INCOME                 \n",
       "1                     5\n",
       "2                     6\n",
       "3                    10\n",
       "4                    12\n",
       "5                     2\n",
       "6                    15\n",
       "7                    13\n",
       "8                    53\n",
       "9                    29\n",
       "10                   12\n",
       "11                   42\n",
       "12                    2\n",
       "13                   23\n",
       "14                   24"
      ]
     },
     "execution_count": 4,
     "metadata": {},
     "output_type": "execute_result"
    }
   ],
   "source": [
    "income_vs_approval = pd.pivot_table(data=train_data, values='APPROVAL_STATUS', index='INCOME', aggfunc=np.sum) #creates a DataFrame that has the pivot table\n",
    "#data: the dataframe with all the values for pivoting\n",
    "#values: the column to sum up\n",
    "#index: the column for which we sum up values for\n",
    "#aggfunc: how one wants to 'aggregate' the values, which is np.sum in this case.\n",
    "income_vs_approval #remember that jupyter notebooks always outputs the last item in the cell, unless you assign it to a variable"
   ]
  },
  {
   "cell_type": "markdown",
   "metadata": {},
   "source": [
    "##### Now, we plot the income_vs_approval using matplotlib. Observe from above that our x values are under the INCOME column and our y values are under the APPROVAL_STATUS column. To get the values under INCOME, we use income_vs_approval.index (if one recalls further, we set index='INCOME'). To get the values under APPROVAL_STATUS, we use income_vs_approval.values"
   ]
  },
  {
   "cell_type": "code",
   "execution_count": 5,
   "metadata": {},
   "outputs": [
    {
     "data": {
      "text/plain": [
       "<matplotlib.collections.PathCollection at 0x1e988cc5908>"
      ]
     },
     "execution_count": 5,
     "metadata": {},
     "output_type": "execute_result"
    },
    {
     "data": {
      "image/png": "[encoded data removed]",
      "text/plain": [
       "<matplotlib.figure.Figure at 0x1e988975978>"
      ]
     },
     "metadata": {},
     "output_type": "display_data"
    }
   ],
   "source": [
    "x = np.array(income_vs_approval.index).reshape(-1,1) #coverting it to a numpy array then reshaping it so it'll be 2D shape instead of a 1D shape.\n",
    "y = income_vs_approval.values #the .values outputs a numpy array of shape (-1,1) already\n",
    "#the reason we're doing the coversions and reshapings above is due to how sklearn processes data for fitting/learning (it needs a two dimensional shape), as we are going for a line of best fit below.\n",
    "plt.scatter(x, y) "
   ]
  },
  {
   "cell_type": "markdown",
   "metadata": {},
   "source": [
    "##### We see a general trend of approvals going up the higher income bracket you reportedly are. Now, we are going to fit a regression line on it and plot it together. First, we create an regression line using LinearRegression from sci-kit learn."
   ]
  },
  {
   "cell_type": "code",
   "execution_count": 6,
   "metadata": {},
   "outputs": [
    {
     "data": {
      "text/plain": [
       "LinearRegression(copy_X=True, fit_intercept=True, n_jobs=1, normalize=False)"
      ]
     },
     "execution_count": 6,
     "metadata": {},
     "output_type": "execute_result"
    }
   ],
   "source": [
    "from sklearn.linear_model import LinearRegression #import linear regression from sklearn to get our regression line\n",
    "lr = LinearRegression() #creating an instance of LinearRegression\n",
    "lr.fit(x,y) #fitting our instance of LinearRegression to our pivot table's data"
   ]
  },
  {
   "cell_type": "markdown",
   "metadata": {},
   "source": [
    "##### Now, we plot the line with the scatter plot above."
   ]
  },
  {
   "cell_type": "code",
   "execution_count": 7,
   "metadata": {},
   "outputs": [
    {
     "data": {
      "text/plain": [
       "<matplotlib.collections.PathCollection at 0x1e988d60898>"
      ]
     },
     "execution_count": 7,
     "metadata": {},
     "output_type": "execute_result"
    },
    {
     "data": {
      "image/png": "[encoded data removed]",
      "text/plain": [
       "<matplotlib.figure.Figure at 0x1e9889cef98>"
      ]
     },
     "metadata": {},
     "output_type": "display_data"
    }
   ],
   "source": [
    "y2 = lr.predict(x) #yes, we are using .predict here, but since we are \"predicting\" on the training set's x values, it will output the line of best fit's y values at those x points\n",
    "plt.plot(x,y2, c='r') #c is for changing colors of the plot, 'r' means red. \n",
    "plt.scatter(x,y) #putting two plotting functions from matplotlib like this will automatically stack them together"
   ]
  },
  {
   "cell_type": "markdown",
   "metadata": {},
   "source": [
    "##### We now move on to using logistic regression for automating credit card approvals. Before we build the model, we know that we have some nominal categorical variables. Since we are using logistic regression, we need to one hot encode them. For simplicity, we are going to only one hot encode MARRIAGE\n"
   ]
  },
  {
   "cell_type": "code",
   "execution_count": 8,
   "metadata": {},
   "outputs": [],
   "source": [
    "from sklearn.preprocessing import OneHotEncoder #import the OneHotEncoder from sklearn"
   ]
  },
  {
   "cell_type": "markdown",
   "metadata": {},
   "source": [
    "##### We are going to one hot encode both training and testing set's MARRIAGE . The reason for that is beacuse we are going to fit the model on the \"modified\" training set (due to encoding of MARRIAGE), so the test set needs the same \"modifications\"."
   ]
  },
  {
   "cell_type": "code",
   "execution_count": 9,
   "metadata": {},
   "outputs": [],
   "source": [
    "encoder = OneHotEncoder() #create an instance of OneHotEncoder. Remember, each instance only works for a single feature. You will need more instances for other features\n",
    "encoded_marriage_train = encoder.fit_transform(train_data['MARRIAGE'].values.reshape(-1,1)) #.values.reshape is for the same reason above, sklearn needs a two dimensional shape\n",
    "encoded_marriage_test = encoder.transform(test_data['MARRIAGE'].values.reshape(-1,1)) #we use .transform because we already \"fitted\" the encoder on the training set"
   ]
  },
  {
   "cell_type": "markdown",
   "metadata": {},
   "source": [
    "##### Before we proceed further, let's take a look at encoded_marriage_train. Observe that the output says 'sparse matrix'. A sparse matrix is a matrix with a lot of zeros. It's used because of its memory efficiency. Since one hot encoding tends to create a very large matrix with a bunch of ones and zeros, sklearn outputs sparse matrices when you use its OneHotEncoder."
   ]
  },
  {
   "cell_type": "code",
   "execution_count": 10,
   "metadata": {},
   "outputs": [
    {
     "data": {
      "text/plain": [
       "<552x3 sparse matrix of type '<class 'numpy.float64'>'\n",
       "\twith 552 stored elements in Compressed Sparse Row format>"
      ]
     },
     "execution_count": 10,
     "metadata": {},
     "output_type": "execute_result"
    }
   ],
   "source": [
    "encoded_marriage_train"
   ]
  },
  {
   "cell_type": "markdown",
   "metadata": {},
   "source": [
    "##### Now we are almost ready to train our model. Before we do that, we are going to select a few features to use, of course MARRIAGE is one of them since we already one hot encoded it. Also, we need to turn encoded_marriage_train and encoded_marriage_test into DataFrames to make things more consistent, as sklearn only takes in one 'type' of input for data or labels."
   ]
  },
  {
   "cell_type": "code",
   "execution_count": 11,
   "metadata": {},
   "outputs": [],
   "source": [
    "selected_features = ['DEBT', 'AGE', 'YRS_OF_EMPLOYMENT'] #these are the features we're going to use (plus one hot encoded MARRIAGE). We put them in a list to access it later"
   ]
  },
  {
   "cell_type": "code",
   "execution_count": 12,
   "metadata": {},
   "outputs": [],
   "source": [
    "encoded_marriage_train = pd.DataFrame(encoded_marriage_train.todense()) #the .todense() converts the sparse matrix into a regular matrix (or array), then we put in a DataFrame\n",
    "encoded_marriage_test = pd.DataFrame(encoded_marriage_test.todense()) #same for the testing set"
   ]
  },
  {
   "cell_type": "markdown",
   "metadata": {},
   "source": [
    "##### We then make the training and testing sets for our model based on the 4 features. This is done by extracting selected_features from train_data and test_data then concatenating (joining) it with encoded_marriage_train and encoded_marriage_test."
   ]
  },
  {
   "cell_type": "code",
   "execution_count": 13,
   "metadata": {},
   "outputs": [],
   "source": [
    "train_data2 = pd.concat([train_data[selected_features], encoded_marriage_train], axis=1) #putting the DataFrames to be concatentated in a list, then set axis=1 since we are joining them by columns\n",
    "test_data2 = pd.concat([test_data[selected_features], encoded_marriage_test], axis=1) #same for test_data\n",
    "train_label = train_data.iloc[:,-1] #recall that this is the training data from .csv, we are trying to get the labels which is the last column (hence why -1 is used)\n",
    "test_label = test_data.iloc[:,-1] #same for testing data."
   ]
  },
  {
   "cell_type": "markdown",
   "metadata": {},
   "source": [
    "##### We are finally ready to train and test our model."
   ]
  },
  {
   "cell_type": "code",
   "execution_count": 14,
   "metadata": {},
   "outputs": [],
   "source": [
    "lg = LogisticRegression() #first, we create an instance of LogisiticRegression \n",
    "lg.fit(train_data2, train_label) #now we train our model, using the prepped data\n",
    "pred = lg.predict(test_data2) #this gives all the predictions of our model in the testing set"
   ]
  },
  {
   "cell_type": "markdown",
   "metadata": {},
   "source": [
    "##### Let's import some performance measures to see how our model performs"
   ]
  },
  {
   "cell_type": "code",
   "execution_count": 15,
   "metadata": {},
   "outputs": [],
   "source": [
    "from sklearn.metrics import accuracy_score, recall_score, precision_score, confusion_matrix #the imported functions are self explanatory"
   ]
  },
  {
   "cell_type": "code",
   "execution_count": 16,
   "metadata": {},
   "outputs": [
    {
     "name": "stdout",
     "output_type": "stream",
     "text": [
      "Accuracy:  0.6666666666666666\n",
      "Recall:  0.4745762711864407\n",
      "Precision:  0.6511627906976745\n",
      "Confusion Matrix: \n",
      " [[64 15]\n",
      " [31 28]]\n"
     ]
    }
   ],
   "source": [
    "print('Accuracy: ', accuracy_score(test_label, pred)) #note that all of these functions follow the same format, first arguement is the true labels, second is the predicted labels\n",
    "print('Recall: ', recall_score(test_label, pred))\n",
    "print('Precision: ', precision_score(test_label, pred))\n",
    "print('Confusion Matrix: \\n', confusion_matrix(test_label, pred)) #\\n in 'Confusion Matrix: \\n' means go to next line so that our confusion matrix will look cleaner"
   ]
  },
  {
   "cell_type": "markdown",
   "metadata": {},
   "source": [
    "##### Let's now do some feature selection by adding an extra feature, say NUM_PREV_APP. We just have to copy all the code from above and add in 'NUM_PREV_APP' in selected_features. As a note, if you're going to add a nominal feature, you have to create a new instance of OneHotEncoder, then concatenate it. However, we are adding an ordinal feature this time so there's no need for that"
   ]
  },
  {
   "cell_type": "code",
   "execution_count": 17,
   "metadata": {},
   "outputs": [
    {
     "name": "stdout",
     "output_type": "stream",
     "text": [
      "Accuracy:  0.8260869565217391\n",
      "Recall:  0.6779661016949152\n",
      "Precision:  0.8888888888888888\n",
      "Confusion Matrix: \n",
      " [[74  5]\n",
      " [19 40]]\n"
     ]
    }
   ],
   "source": [
    "#we skip all the comments and just have the code below\n",
    "#keep in mind we don't need to import the performance metrics again \n",
    "#also, we overwritten encoded_marriage_train with a DataFrame, so there's also no need to copy that\n",
    "selected_features = ['DEBT', 'AGE', 'YRS_OF_EMPLOYMENT', 'NUM_PREV_APP']\n",
    "train_data2 = pd.concat([train_data[selected_features], encoded_marriage_train], axis=1) \n",
    "test_data2 = pd.concat([test_data[selected_features], encoded_marriage_test], axis=1) \n",
    "train_label = train_data.iloc[:,-1] \n",
    "test_label = test_data.iloc[:,-1]\n",
    "lg = LogisticRegression() \n",
    "lg.fit(train_data2, train_label)\n",
    "pred = lg.predict(test_data2) \n",
    "print('Accuracy: ', accuracy_score(test_label, pred)) #note that all of these functions follow the same format, first arguement is the true labels, second is the predicted labels\n",
    "print('Recall: ', recall_score(test_label, pred))\n",
    "print('Precision: ', precision_score(test_label, pred))\n",
    "print('Confusion Matrix: \\n', confusion_matrix(test_label, pred)) #\\n in 'Confusion Matrix: \\n' means go to next line so that our confusion matrix will look cleaner"
   ]
  },
  {
   "cell_type": "markdown",
   "metadata": {},
   "source": [
    "##### We see a drastic improvement by adding this feature. We now move on to hyperparameters tuning. \n",
    "###### Logistic Regression in sklearn comes default with a L2 regularizer with a coefficient of 1 by default. What L2 regularizer is suppose to do is to prevent overfitting during training. The exact mechanism for how this happens is beyond the scope of these notes. However, this coefficient is a hyperparameter of Logistic Regression, and is used as an example of how to tune hyperparameters using sklearn's GridSearchCV."
   ]
  },
  {
   "cell_type": "code",
   "execution_count": 18,
   "metadata": {},
   "outputs": [],
   "source": [
    "from sklearn.model_selection import GridSearchCV"
   ]
  },
  {
   "cell_type": "markdown",
   "metadata": {},
   "source": [
    "##### First, we put all possible hyperparameters in a Python dictionary. A Python dictionary is just another way of storing data. Essentially, it can be viewed as a list of 'keys' and 'values', where a 'key' has a corresponding 'value'. \n",
    "##### LogisticRegression's L2 coefficient is named C in sklearn, so we put 'C' (key). The corresponding 'value' should be all the values we want to test for the best hyperparameter"
   ]
  },
  {
   "cell_type": "code",
   "execution_count": 19,
   "metadata": {},
   "outputs": [],
   "source": [
    "hyperparams = {'C':[i/100 for i in range(1,100)]} #I start at 1 because C can't take on the value 0. "
   ]
  },
  {
   "cell_type": "markdown",
   "metadata": {},
   "source": [
    "##### Now, we create an instance of GridSearchCV to  find the best hyperparamter. First positional argument should be the instance of the model we are trying to optimize. Second positional argument is the dictionary for hyperparamters. The keyword argument scoring is how the gridsearch will be evaluating the different hyperparameters performance. This case, we are using accuracy."
   ]
  },
  {
   "cell_type": "code",
   "execution_count": 20,
   "metadata": {},
   "outputs": [],
   "source": [
    "gridsearch = GridSearchCV(lg, hyperparams, scoring='accuracy')"
   ]
  },
  {
   "cell_type": "code",
   "execution_count": 21,
   "metadata": {},
   "outputs": [
    {
     "data": {
      "text/plain": [
       "GridSearchCV(cv=None, error_score='raise',\n",
       "       estimator=LogisticRegression(C=1.0, class_weight=None, dual=False, fit_intercept=True,\n",
       "          intercept_scaling=1, max_iter=100, multi_class='ovr', n_jobs=1,\n",
       "          penalty='l2', random_state=None, solver='liblinear', tol=0.0001,\n",
       "          verbose=0, warm_start=False),\n",
       "       fit_params=None, iid=True, n_jobs=1,\n",
       "       param_grid={'C': [0.01, 0.02, 0.03, 0.04, 0.05, 0.06, 0.07, 0.08, 0.09, 0.1, 0.11, 0.12, 0.13, 0.14, 0.15, 0.16, 0.17, 0.18, 0.19, 0.2, 0.21, 0.22, 0.23, 0.24, 0.25, 0.26, 0.27, 0.28, 0.29, 0.3, 0.31, 0.32, 0.33, 0.34, 0.35, 0.36, 0.37, 0.38, 0.39, 0.4, 0.41, 0.42, 0.43, 0.44, 0.45, 0.46, 0.47, 0.48....83, 0.84, 0.85, 0.86, 0.87, 0.88, 0.89, 0.9, 0.91, 0.92, 0.93, 0.94, 0.95, 0.96, 0.97, 0.98, 0.99]},\n",
       "       pre_dispatch='2*n_jobs', refit=True, return_train_score='warn',\n",
       "       scoring='accuracy', verbose=0)"
      ]
     },
     "execution_count": 21,
     "metadata": {},
     "output_type": "execute_result"
    }
   ],
   "source": [
    "gridsearch.fit(train_data2, train_label) #gridsearch automaticallty makes a validation set from the training data"
   ]
  },
  {
   "cell_type": "code",
   "execution_count": 22,
   "metadata": {},
   "outputs": [
    {
     "data": {
      "text/plain": [
       "LogisticRegression(C=0.62, class_weight=None, dual=False, fit_intercept=True,\n",
       "          intercept_scaling=1, max_iter=100, multi_class='ovr', n_jobs=1,\n",
       "          penalty='l2', random_state=None, solver='liblinear', tol=0.0001,\n",
       "          verbose=0, warm_start=False)"
      ]
     },
     "execution_count": 22,
     "metadata": {},
     "output_type": "execute_result"
    }
   ],
   "source": [
    "gridsearch.best_estimator_ #this gives the best version of the model with its corresponding hyperparameters"
   ]
  },
  {
   "cell_type": "markdown",
   "metadata": {},
   "source": [
    "##### Keep in mind that we are only optimizing for accuracy. Depending on the needs for a model, one might be tuning hyperparameters for other performance measures. This concludes the sample run."
   ]
  }
 ],
 "metadata": {
  "kernelspec": {
   "display_name": "Python 3",
   "language": "python",
   "name": "python3"
  },
  "language_info": {
   "codemirror_mode": {
    "name": "ipython",
    "version": 3
   },
   "file_extension": ".py",
   "mimetype": "text/x-python",
   "name": "python",
   "nbconvert_exporter": "python",
   "pygments_lexer": "ipython3",
   "version": "3.6.4"
  }
 },
 "nbformat": 4,
 "nbformat_minor": 2
}
